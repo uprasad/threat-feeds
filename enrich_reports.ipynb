{
 "cells": [
  {
   "cell_type": "code",
   "execution_count": null,
   "id": "6b1b0424-de12-47d2-9754-54cd7450f801",
   "metadata": {},
   "outputs": [],
   "source": [
    "from collections import defaultdict\n",
    "import json\n",
    "from mitreattack.stix20 import MitreAttackData\n",
    "import nest_asyncio\n",
    "from ratelimit import limits, sleep_and_retry\n",
    "import sqlite3\n",
    "import time\n",
    "import vt"
   ]
  },
  {
   "cell_type": "code",
   "execution_count": null,
   "id": "ae7882cf-d953-4286-aeae-093f3d16a555",
   "metadata": {},
   "outputs": [],
   "source": [
    "nest_asyncio.apply()"
   ]
  },
  {
   "cell_type": "code",
   "execution_count": null,
   "id": "a9bb275c-547a-45e2-a27d-1bf96076d7a1",
   "metadata": {},
   "outputs": [],
   "source": [
    "VT_API_KEY = \"<VT_API_KEY>\""
   ]
  },
  {
   "cell_type": "code",
   "execution_count": null,
   "id": "8b164bf1-5731-4f05-a83a-18e62ddfb98b",
   "metadata": {},
   "outputs": [],
   "source": [
    "# Load mitre attack data\n",
    "mitre_attack_data = MitreAttackData(\"enterprise-attack.json\")"
   ]
  },
  {
   "cell_type": "code",
   "execution_count": null,
   "id": "3f292f58-ef97-4cad-a8bb-09a05ed0ba48",
   "metadata": {},
   "outputs": [],
   "source": [
    "def build_mitre_map():\n",
    "    def enrich_external_ids(elems):\n",
    "        return {r.external_id: {\"url\": r.url, \"name\": e.name} for e in elems for r in e.external_references if r.source_name == 'mitre-attack'}\n",
    "    \n",
    "    def enrich_names(elems):\n",
    "        return {e.name: {\"url\": r.url} for e in elems for r in e.external_references if r.source_name == 'mitre-attack'}\n",
    "    \n",
    "    tactics = mitre_attack_data.get_tactics()\n",
    "    techniques = mitre_attack_data.get_techniques()\n",
    "    groups = mitre_attack_data.get_groups()\n",
    "    software = mitre_attack_data.get_software()\n",
    "    campaigns = mitre_attack_data.get_campaigns()\n",
    "    datasources = mitre_attack_data.get_datasources()\n",
    "    \n",
    "    return {\n",
    "        \"tactics\": enrich_external_ids(tactics),\n",
    "        \"techniques\": enrich_external_ids(techniques),\n",
    "        \"group_names\": enrich_names(groups),\n",
    "        \"group_ids\": enrich_external_ids(groups),\n",
    "        \"software_ids\": enrich_external_ids(software),\n",
    "        \"campaign_names\": enrich_names(campaigns),\n",
    "        \"campaign_ids\": enrich_external_ids(campaigns),\n",
    "        \"datasources\": enrich_external_ids(datasources),\n",
    "    }\n",
    "\n",
    "mitre_map = build_mitre_map()"
   ]
  },
  {
   "cell_type": "code",
   "execution_count": null,
   "id": "832b7e80-66d3-48a0-ab04-4ca3594d0c14",
   "metadata": {},
   "outputs": [],
   "source": [
    "def enrich_mitre(mitre):\n",
    "    res = dict()\n",
    "    for key, values in mitre.items():\n",
    "        enriched = mitre_map[key]\n",
    "        res[key] = {v: enriched[v] for v in values if v in enriched}\n",
    "\n",
    "    return res"
   ]
  },
  {
   "cell_type": "code",
   "execution_count": null,
   "id": "ac54c2e1-45d1-4d57-9bdd-079e212f22c5",
   "metadata": {},
   "outputs": [],
   "source": [
    "@sleep_and_retry\n",
    "@limits(calls=1, period=20) # VT restricts to 4 QPM\n",
    "def enrich_hashes(vt_client, filehashes):\n",
    "    res = defaultdict(dict)\n",
    "    for fh in filehashes:\n",
    "        try:\n",
    "            file = vt_client.get_object(f\"/files/{fh}\")\n",
    "            res[fh][\"VirusTotal\"] = f\"https://www.virustotal.com/gui/file/{fh}\"\n",
    "        except:\n",
    "            pass\n",
    "\n",
    "    return res"
   ]
  },
  {
   "cell_type": "code",
   "execution_count": null,
   "id": "d6af52f0-3b92-4573-a660-5e6c3367d968",
   "metadata": {},
   "outputs": [],
   "source": [
    "def split(iocs):\n",
    "    return iocs.split(\",\") if iocs else []\n",
    "\n",
    "def enrich_reports(sq_conn):\n",
    "    # Initialize database\n",
    "    with open(\"sqlite_schema.sql\") as f:\n",
    "        try:\n",
    "            with sq_conn:\n",
    "                sq_conn.executescript(f.read())\n",
    "        except Exception as e:\n",
    "            print(f\"error applying schema: {e}\")\n",
    "\n",
    "    read_cur = sq_conn.cursor()\n",
    "    update_cur = sq_conn.cursor()\n",
    "\n",
    "    vt_client = vt.Client(apikey=VT_API_KEY)\n",
    "\n",
    "    count = 0\n",
    "    for row in read_cur.execute(\"SELECT id, md5s, sha1s, sha256s, mitre FROM report\"):\n",
    "        report_id, md5s, sha1s, sha256s, mitre = row\n",
    "        md5s = split(md5s)\n",
    "        sha1s = split(sha1s)\n",
    "        sha256s = split(sha256s)\n",
    "        mitre = json.loads(mitre)\n",
    "\n",
    "        enriched_mitre = enrich_mitre(mitre)\n",
    "\n",
    "        enriched_md5s = {}\n",
    "        if len(md5s) > 0:\n",
    "            enriched_md5s = enrich_hashes(vt_client, md5s)\n",
    "\n",
    "        enriched_sha1s = {}\n",
    "        if len(sha1s) > 0:\n",
    "            enriched_sha1s = enrich_hashes(vt_client, sha1s)\n",
    "\n",
    "        enriched_sha256s = {}\n",
    "        if len(sha256s) > 0:\n",
    "            enriched_sha256s = enrich_hashes(vt_client, sha256s)\n",
    "\n",
    "        data = {\n",
    "            \"report_id\": report_id,\n",
    "            \"mitre\": json.dumps(enriched_mitre),\n",
    "            \"md5s\": json.dumps(enriched_md5s),\n",
    "            \"sha1s\": json.dumps(enriched_sha1s),\n",
    "            \"sha256s\": json.dumps(enriched_sha256s),\n",
    "        }\n",
    "\n",
    "        with sq_conn:\n",
    "            update_cur.execute(\"\"\"\n",
    "                INSERT OR REPLACE INTO enriched_report (\n",
    "                    report_id,\n",
    "                    mitre,\n",
    "                    md5s,\n",
    "                    sha1s,\n",
    "                    sha256s\n",
    "                ) VALUES(\n",
    "                    :report_id,\n",
    "                    :mitre,\n",
    "                    :md5s,\n",
    "                    :sha1s,\n",
    "                    :sha256s\n",
    "                )\n",
    "            \"\"\", data)\n",
    "            if update_cur.rowcount != 1:\n",
    "                raise Exception(f\"error inserting enriched mitre for {report_id}. rowcount is {update_cur.rowcount}\")\n",
    "        \n",
    "        count += 1\n",
    "        print(f\"Updated report {report_id} ({count})\")\n",
    "\n",
    "    print(f\"Updated {count} rows\")"
   ]
  },
  {
   "cell_type": "code",
   "execution_count": null,
   "id": "11d73404-844c-47b6-895f-f8ca207a8a6a",
   "metadata": {},
   "outputs": [],
   "source": [
    "if __name__ == '__main__':\n",
    "    # Connect to sqlite database\n",
    "    sq_conn = sqlite3.connect(\"reports.db\")\n",
    "    try:\n",
    "        enrich_reports(sq_conn)\n",
    "    finally:\n",
    "        sq_conn.close()"
   ]
  }
 ],
 "metadata": {
  "kernelspec": {
   "display_name": "Python 3 (ipykernel)",
   "language": "python",
   "name": "python3"
  },
  "language_info": {
   "codemirror_mode": {
    "name": "ipython",
    "version": 3
   },
   "file_extension": ".py",
   "mimetype": "text/x-python",
   "name": "python",
   "nbconvert_exporter": "python",
   "pygments_lexer": "ipython3",
   "version": "3.12.3"
  }
 },
 "nbformat": 4,
 "nbformat_minor": 5
}
