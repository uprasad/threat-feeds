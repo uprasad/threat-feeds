{
 "cells": [
  {
   "cell_type": "code",
   "execution_count": 1,
   "id": "ca9a1a08-9615-4789-bec4-63313506baba",
   "metadata": {},
   "outputs": [],
   "source": [
    "import ollama\n",
    "from pydantic import BaseModel"
   ]
  },
  {
   "cell_type": "code",
   "execution_count": 2,
   "id": "355f0764-5c0e-4135-9a04-76afb054bc23",
   "metadata": {},
   "outputs": [],
   "source": [
    "def ioc_validation_prompt(ioc, ioc_type, context):\n",
    "    return f\"\"\"\n",
    "    Based on the following text, answer \"true\" or \"false\". Is {ioc} an {ioc_type}?\n",
    "\n",
    "    -----------\n",
    "    {context}\n",
    "    \"\"\"\n",
    "\n",
    "def ioc_relevance_prompt(ioc, ioc_type, context):\n",
    "    return f\"\"\"\n",
    "    Based on the following text, answer \"true\" or \"false\". Is the {ioc_type} {ioc} an indicator of compromise?\n",
    "\n",
    "    -----------\n",
    "    {context}\n",
    "    \"\"\""
   ]
  },
  {
   "cell_type": "code",
   "execution_count": 3,
   "id": "0b0f66eb-1b92-4e94-84b4-ef3d4c85a115",
   "metadata": {},
   "outputs": [],
   "source": [
    "class Answer(BaseModel):\n",
    "    answer: bool"
   ]
  },
  {
   "cell_type": "code",
   "execution_count": null,
   "id": "be7a2d1e-6ad0-4a21-bc06-862c305ac32b",
   "metadata": {},
   "outputs": [],
   "source": [
    "%%time\n",
    "resp = ollama.chat(\n",
    "    model='qwen2.5:14b',\n",
    "    messages=[\n",
    "        {\n",
    "            'role': 'user',\n",
    "            'content': ioc_validation_prompt(ioc, \"URL\", context),\n",
    "        },\n",
    "    ],\n",
    "    format=Answer.model_json_schema(),\n",
    ")\n",
    "answer = Answer.model_validate_json(resp.message.content)\n",
    "answer"
   ]
  },
  {
   "cell_type": "code",
   "execution_count": null,
   "id": "776c07ed-6c36-492a-91e4-0b37bab9960b",
   "metadata": {},
   "outputs": [],
   "source": [
    "%%time\n",
    "resp = ollama.chat(\n",
    "    model='qwen2.5:14b',\n",
    "    messages=[\n",
    "        {\n",
    "            'role': 'user',\n",
    "            'content': ioc_relevance_prompt(ioc, \"URL\", context),\n",
    "        },\n",
    "    ],\n",
    "    format=Answer.model_json_schema(),\n",
    ")\n",
    "answer = Answer.model_validate_json(resp.message.content)\n",
    "answer"
   ]
  }
 ],
 "metadata": {
  "kernelspec": {
   "display_name": "Python 3 (ipykernel)",
   "language": "python",
   "name": "python3"
  },
  "language_info": {
   "codemirror_mode": {
    "name": "ipython",
    "version": 3
   },
   "file_extension": ".py",
   "mimetype": "text/x-python",
   "name": "python",
   "nbconvert_exporter": "python",
   "pygments_lexer": "ipython3",
   "version": "3.12.3"
  }
 },
 "nbformat": 4,
 "nbformat_minor": 5
}
