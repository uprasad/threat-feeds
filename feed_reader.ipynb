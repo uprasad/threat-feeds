{
 "cells": [
  {
   "cell_type": "code",
   "execution_count": 1,
   "id": "051138c5-a3dc-4855-90a1-4441e5eb48f2",
   "metadata": {},
   "outputs": [],
   "source": [
    "import feedparser"
   ]
  },
  {
   "cell_type": "code",
   "execution_count": 30,
   "id": "326ada4b-9893-48c7-ab5a-26f425c2cef2",
   "metadata": {},
   "outputs": [],
   "source": [
    "FEEDS = [\n",
    "    \"https://www.welivesecurity.com/en/rss/feed/\",\n",
    "    \"https://abuse.ch/rss\",\n",
    "    \"https://research.checkpoint.com/feed/\",\n",
    "    \"https://news.sophos.com/en-us/feed/\",\n",
    "    \"https://www.sentinelone.com/feed/\",\n",
    "    \"https://unit42.paloaltonetworks.com/feed/\",\n",
    "    \"https://www.crowdstrike.com/en-us/blog/feed\",\n",
    "    \"https://www.cisa.gov/blog.xml\",\n",
    "    \"https://www.cisa.gov/news.xml\",\n",
    "    \"https://www.cisa.gov/cybersecurity-advisories/all.xml\",\n",
    "    \"https://blog.talosintelligence.com/rss/\",\n",
    "    \"https://isc.sans.edu/rssfeed_full.xml\",\n",
    "    \"https://www.microsoft.com/en-us/security/blog/feed/\",\n",
    "    \"https://feeds.feedburner.com/threatintelligence/pvexyqv7v0v\",\n",
    "    \"https://www.securitymagazine.com/rss/15\",\n",
    "]"
   ]
  },
  {
   "cell_type": "code",
   "execution_count": 38,
   "id": "bdc9fd55-b242-4eda-9f34-d5fa4843db64",
   "metadata": {},
   "outputs": [
    {
     "data": {
      "text/plain": [
       "30"
      ]
     },
     "execution_count": 38,
     "metadata": {},
     "output_type": "execute_result"
    }
   ],
   "source": [
    "def entries(url):\n",
    "    feed = feedparser.parse(url)\n",
    "    if feed.bozo:\n",
    "        raise Exception(f\"BOZO {url}\")\n",
    "\n",
    "    return len(feed.entries)\n",
    "\n",
    "entries(\"https://www.securitymagazine.com/rss/15\")"
   ]
  },
  {
   "cell_type": "code",
   "execution_count": 49,
   "id": "0aaab508-f46b-4736-847d-f0a1cde7a210",
   "metadata": {},
   "outputs": [],
   "source": [
    "feed = feedparser.parse(\"https://isc.sans.edu/rssfeed_full.xml\")"
   ]
  },
  {
   "cell_type": "code",
   "execution_count": 50,
   "id": "5ea166f2-d69f-4450-b0f5-53fe76e24e55",
   "metadata": {},
   "outputs": [
    {
     "data": {
      "text/plain": [
       "dict_keys(['bozo', 'entries', 'feed', 'headers', 'etag', 'updated', 'updated_parsed', 'href', 'status', 'encoding', 'version', 'namespaces'])"
      ]
     },
     "execution_count": 50,
     "metadata": {},
     "output_type": "execute_result"
    }
   ],
   "source": [
    "feed.keys()"
   ]
  },
  {
   "cell_type": "code",
   "execution_count": 51,
   "id": "f87c150c-3ad0-47af-9fad-d9636cf723e5",
   "metadata": {},
   "outputs": [
    {
     "data": {
      "text/plain": [
       "dict_keys(['title', 'title_detail', 'links', 'link', 'id', 'guidislink', 'summary', 'summary_detail', 'published', 'published_parsed'])"
      ]
     },
     "execution_count": 51,
     "metadata": {},
     "output_type": "execute_result"
    }
   ],
   "source": [
    "entry = feed.entries[0]\n",
    "entry.keys()"
   ]
  },
  {
   "cell_type": "code",
   "execution_count": 52,
   "id": "96d83cc7-94b9-4e31-aaa8-d8d0c57392e2",
   "metadata": {},
   "outputs": [
    {
     "data": {
      "text/plain": [
       "'https://isc.sans.edu/diary.html?rss'"
      ]
     },
     "execution_count": 52,
     "metadata": {},
     "output_type": "execute_result"
    }
   ],
   "source": [
    "entry.link"
   ]
  }
 ],
 "metadata": {
  "kernelspec": {
   "display_name": "Python 3 (ipykernel)",
   "language": "python",
   "name": "python3"
  },
  "language_info": {
   "codemirror_mode": {
    "name": "ipython",
    "version": 3
   },
   "file_extension": ".py",
   "mimetype": "text/x-python",
   "name": "python",
   "nbconvert_exporter": "python",
   "pygments_lexer": "ipython3",
   "version": "3.12.3"
  }
 },
 "nbformat": 4,
 "nbformat_minor": 5
}
