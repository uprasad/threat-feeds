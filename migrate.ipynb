{
 "cells": [
  {
   "cell_type": "code",
   "execution_count": 12,
   "id": "b7dc924e-d3c5-48b9-be3c-083ccda549cf",
   "metadata": {},
   "outputs": [],
   "source": [
    "import boto3\n",
    "from botocore.exceptions import ClientError\n",
    "import json\n",
    "import psycopg2 as pg\n",
    "import sqlite3"
   ]
  },
  {
   "cell_type": "code",
   "execution_count": 13,
   "id": "94bd6c3b-291d-45e9-aa1a-edf965b8f895",
   "metadata": {},
   "outputs": [],
   "source": [
    "def get_pg_secret():\n",
    "    secret_name = \"rds!db-087d55ac-2a56-4890-84e2-077ddf7542c8\"\n",
    "    region_name = \"us-east-2\"\n",
    "\n",
    "    # Create a Secrets Manager client\n",
    "    session = boto3.session.Session()\n",
    "    client = session.client(\n",
    "        service_name='secretsmanager',\n",
    "        region_name=region_name\n",
    "    )\n",
    "\n",
    "    try:\n",
    "        get_secret_value_response = client.get_secret_value(SecretId=secret_name)\n",
    "    except ClientError as e:\n",
    "        # For a list of exceptions thrown, see\n",
    "        # https://docs.aws.amazon.com/secretsmanager/latest/apireference/API_GetSecretValue.html\n",
    "        raise e\n",
    "\n",
    "    return json.loads(get_secret_value_response['SecretString'])"
   ]
  },
  {
   "cell_type": "code",
   "execution_count": 14,
   "id": "85dcb0ba-8e8d-4161-9413-1a74eca01be3",
   "metadata": {},
   "outputs": [],
   "source": [
    "def copy_rows():\n",
    "    split = lambda s: s.split(\",\") if s else []\n",
    "    \n",
    "    pg_secret = get_pg_secret()\n",
    "    pg_conn = pg.connect(\n",
    "        database=\"reports\",\n",
    "        user=pg_secret[\"username\"],\n",
    "        password=pg_secret[\"password\"],\n",
    "        host=\"reports.c786ks06yy45.us-east-2.rds.amazonaws.com\",\n",
    "        port=5432,\n",
    "    )\n",
    "\n",
    "    sqlite_conn = sqlite3.connect(\"reports.db\")\n",
    "    with sqlite_conn, pg_conn, pg_conn.cursor() as pg_cur, open(\"pg_schema.sql\") as schema_f:\n",
    "        # First create the schema\n",
    "        pg_cur.execute(schema_f.read())\n",
    "        \n",
    "        count = 0\n",
    "        for row in sqlite_conn.execute(\"SELECT * FROM report\"):\n",
    "            (report_id, publish_time, title, summary, upload_time,\n",
    "             source, ipv4s, ipv6s, urls, yara_rules, cves,\n",
    "             sha256s, md5s, sha1s, mitre, report_type,\n",
    "             web_url, report_data_url) = row\n",
    "\n",
    "            pg_row = {\n",
    "                \"id\": report_id,\n",
    "                \"publish_time\": publish_time,\n",
    "                \"title\": title,\n",
    "                \"summary\": summary,\n",
    "                \"upload_time\": upload_time,\n",
    "                \"source\": source,\n",
    "                \"ipv4s\": split(ipv4s),\n",
    "                \"ipv6s\": split(ipv6s),\n",
    "                \"urls\": split(urls),\n",
    "                \"yara_rules\": json.loads(yara_rules),\n",
    "                \"cves\": split(cves),\n",
    "                \"sha256s\": split(sha256s),\n",
    "                \"md5s\": split(md5s),\n",
    "                \"sha1s\": split(sha1s),\n",
    "                \"mitre\": mitre,\n",
    "                \"report_type\": report_type,\n",
    "                \"web_url\": web_url,\n",
    "                \"report_data_url\": report_data_url,\n",
    "            }\n",
    "            pg_cur.execute(\"\"\"\n",
    "                INSERT INTO report VALUES (\n",
    "                    %(id)s,\n",
    "                    to_timestamp(%(publish_time)s),\n",
    "                    %(title)s,\n",
    "                    %(summary)s,\n",
    "                    to_timestamp(%(upload_time)s),\n",
    "                    %(source)s,\n",
    "                    %(ipv4s)s,\n",
    "                    %(ipv6s)s,\n",
    "                    %(urls)s,\n",
    "                    %(yara_rules)s,\n",
    "                    %(cves)s,\n",
    "                    %(sha256s)s,\n",
    "                    %(md5s)s,\n",
    "                    %(sha1s)s,\n",
    "                    %(mitre)s,\n",
    "                    %(report_type)s,\n",
    "                    %(web_url)s,\n",
    "                    %(report_data_url)s\n",
    "                );\n",
    "            \"\"\", pg_row)\n",
    "\n",
    "            count += 1\n",
    "\n",
    "        print(f\"Copied {count} rows\")\n",
    "\n",
    "    pg_conn.close()\n",
    "    sqlite_conn.close()"
   ]
  },
  {
   "cell_type": "code",
   "execution_count": 15,
   "id": "0a6422d6-c6dd-4c96-8713-e2d57ae1346c",
   "metadata": {},
   "outputs": [
    {
     "name": "stdout",
     "output_type": "stream",
     "text": [
      "Copied 305 rows\n"
     ]
    }
   ],
   "source": [
    "if __name__ == '__main__':\n",
    "    copy_rows()"
   ]
  }
 ],
 "metadata": {
  "kernelspec": {
   "display_name": "Python 3 (ipykernel)",
   "language": "python",
   "name": "python3"
  },
  "language_info": {
   "codemirror_mode": {
    "name": "ipython",
    "version": 3
   },
   "file_extension": ".py",
   "mimetype": "text/x-python",
   "name": "python",
   "nbconvert_exporter": "python",
   "pygments_lexer": "ipython3",
   "version": "3.12.3"
  }
 },
 "nbformat": 4,
 "nbformat_minor": 5
}
