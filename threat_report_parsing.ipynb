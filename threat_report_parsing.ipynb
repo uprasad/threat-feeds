{
 "cells": [
  {
   "cell_type": "code",
   "execution_count": 17,
   "id": "7e69a932-fe06-468f-be55-3b9a2b0b268f",
   "metadata": {},
   "outputs": [
    {
     "name": "stdout",
     "output_type": "stream",
     "text": [
      "File ‘enterprise-attack.json’ already there; not retrieving.\n",
      "\n"
     ]
    }
   ],
   "source": [
    "!wget -nc https://raw.githubusercontent.com/mitre/cti/master/enterprise-attack/enterprise-attack.json"
   ]
  },
  {
   "cell_type": "code",
   "execution_count": 138,
   "id": "89b2d1c6-dcda-495f-846b-6f048fda6c82",
   "metadata": {},
   "outputs": [],
   "source": [
    "from bs4 import BeautifulSoup\n",
    "from collections import defaultdict\n",
    "import datetime\n",
    "from enum import Enum\n",
    "from fake_useragent import UserAgent\n",
    "import feedparser\n",
    "import iocextract as ie\n",
    "import json\n",
    "from mitreattack.stix20 import MitreAttackData\n",
    "import nltk\n",
    "import os\n",
    "import random\n",
    "import re\n",
    "import requests\n",
    "import sqlite3\n",
    "import time\n",
    "import uuid"
   ]
  },
  {
   "cell_type": "code",
   "execution_count": 19,
   "id": "5cdbd990-8591-4acd-b7aa-848e86d6d2cd",
   "metadata": {},
   "outputs": [
    {
     "name": "stderr",
     "output_type": "stream",
     "text": [
      "[nltk_data] Downloading package punkt to /home/udp/nltk_data...\n",
      "[nltk_data]   Package punkt is already up-to-date!\n",
      "[nltk_data] Downloading package words to /home/udp/nltk_data...\n",
      "[nltk_data]   Package words is already up-to-date!\n"
     ]
    },
    {
     "data": {
      "text/plain": [
       "True"
      ]
     },
     "execution_count": 19,
     "metadata": {},
     "output_type": "execute_result"
    }
   ],
   "source": [
    "nltk.download('punkt')\n",
    "nltk.download('words')"
   ]
  },
  {
   "cell_type": "code",
   "execution_count": 27,
   "id": "3d4ad9fc-2c11-4a60-a4d9-290fa949e134",
   "metadata": {},
   "outputs": [],
   "source": [
    "class ReportType(Enum):\n",
    "    HTML = 1\n",
    "    PDF = 2\n",
    "    TEXT = 3"
   ]
  },
  {
   "cell_type": "code",
   "execution_count": 86,
   "id": "68b68f92-f4d3-4922-bd70-6a779f3bf5f6",
   "metadata": {},
   "outputs": [],
   "source": [
    "class Report:\n",
    "    cve_re = re.compile(r\"\\bCVE-\\d{4}-\\d{4,}\\b\", re.IGNORECASE)\n",
    "\n",
    "    summary = None\n",
    "    ipv4s = set()\n",
    "    ipv6s = set()\n",
    "    sha256s = set()\n",
    "    md5s = set()\n",
    "    sha1s = set()\n",
    "    domains = set()\n",
    "    yara_rules = set()\n",
    "    cves = set()\n",
    "    mitre = defaultdict(set)\n",
    "        \n",
    "    def __init__(self, contents, title, body, report_type, source, publish_time, url=None):\n",
    "        self.contents = contents # original contents\n",
    "        self.title = title\n",
    "        self.body = body\n",
    "        self.url = url\n",
    "        self.report_type = report_type\n",
    "        self.source = source\n",
    "        self.publish_time = publish_time\n",
    "\n",
    "        self.upload_time = time.time()\n",
    "\n",
    "    @classmethod\n",
    "    def from_url(cls, url, source, publish_time):\n",
    "        headers = {\n",
    "            \"User-Agent\": UserAgent().random,\n",
    "        }\n",
    "        resp = requests.get(url, headers=headers)\n",
    "        resp.raise_for_status()\n",
    "\n",
    "        soup = BeautifulSoup(resp.text, 'html.parser')\n",
    "        body = soup.find('body')\n",
    "        title = soup.find('title')\n",
    "\n",
    "        return Report(resp.text, title, body.text, ReportType.HTML, source, publish_time, url=url)\n",
    "\n",
    "    def parse_iocs(self):\n",
    "        self.domains = set(ie.extract_urls(self.body))\n",
    "        self.ipv4s = set(ie.extract_ipv4s(self.body))\n",
    "        self.ipv6s = set(ie.extract_ipv6s(self.body))\n",
    "        self.cves = self.cve_re.findall(self.body)\n",
    "        self.sha1s = set(ie.extract_sha1_hashes(self.body))\n",
    "        self.md5s = set(ie.extract_md5_hashes(self.body))\n",
    "        self.sha256s = set(ie.extract_sha256_hashes(self.body))\n",
    "\n",
    "    def parse_mitre(self):\n",
    "        def get_external_ids(elems):\n",
    "            return [r.external_id for e in elems for r in e.external_references if r.source_name == 'mitre-attack']\n",
    "        \n",
    "        def get_names(elems):\n",
    "            return [e.name for e in elems]\n",
    "\n",
    "        # Load mitre attack data\n",
    "        mitre_attack_data = MitreAttackData(\"enterprise-attack.json\")\n",
    "\n",
    "        tactics = mitre_attack_data.get_tactics()\n",
    "        techniques = mitre_attack_data.get_techniques()\n",
    "        groups = mitre_attack_data.get_groups()\n",
    "        software = mitre_attack_data.get_software()\n",
    "        campaigns = mitre_attack_data.get_campaigns()\n",
    "        datasources = mitre_attack_data.get_datasources()\n",
    "\n",
    "        tactics_ids = set(get_external_ids(tactics))\n",
    "        techniques_ids = set(get_external_ids(techniques))\n",
    "        groups_names = set(get_names(groups))\n",
    "        groups_ids = set(get_external_ids(groups))\n",
    "        software_names = set(get_names(software))\n",
    "        software_ids = set(get_external_ids(software))\n",
    "        campaign_names = set(get_names(campaigns))\n",
    "        campaign_ids = set(get_external_ids(campaigns))\n",
    "        datasources_ids = set(get_external_ids(datasources))\n",
    "\n",
    "        mitre_data = {\n",
    "            \"tactics\": tactics_ids,\n",
    "            \"techniques\": techniques_ids,\n",
    "            \"mitigations\": mitigations_ids,\n",
    "            \"group_names\": groups_names,\n",
    "            \"group_ids\": groups_ids,\n",
    "            \"software_ids\": software_ids,\n",
    "            \"campaign_names\": campaign_names,\n",
    "            \"campaign_ids\": campaign_ids,\n",
    "            \"datasources\": datasources_ids,\n",
    "        }\n",
    "\n",
    "        # Tokenize contents\n",
    "        words = set(nltk.corpus.words.words())\n",
    "        tokens = set(nltk.tokenize.word_tokenize(self.body)).difference(words)\n",
    "        for key, values in mitre_data.items():\n",
    "            self.mitre[key] = tokens.intersection(values)"
   ]
  },
  {
   "cell_type": "code",
   "execution_count": 139,
   "id": "b6c167fb-55f8-4da6-a54d-64065c6c713a",
   "metadata": {},
   "outputs": [],
   "source": [
    "def persist_report(report, conn):\n",
    "    r = report\n",
    "    report_id = str(uuid.uuid4())\n",
    "\n",
    "    report_data_url = f\"pagedata/{report_id}.html\"\n",
    "    if not os.path.exists(report_data_url):\n",
    "        with open(report_data_url, \"w\") as f:\n",
    "            f.write(r.contents)\n",
    "    \n",
    "    data = {\n",
    "        \"id\": report_id,\n",
    "        \"publish_time\": datetime.datetime.fromtimestamp(r.publish_time).strftime(\"%Y-%m-%d %H:%M:%S\"),\n",
    "        \"title\": r.title,\n",
    "        \"summary\": r.summary,\n",
    "        \"upload_time\": datetime.datetime.fromtimestamp(r.upload_time).strftime(\"%Y-%m-%d %H:%M:%S\"),\n",
    "        \"source\": r.source,\n",
    "        \"ipv4s\": \",\".join(r.ipv4s),\n",
    "        \"ipv6s\": \",\".join(r.ipv6s),\n",
    "        \"urls\": \",\".join(r.domains),\n",
    "        \"yara_rules\": json.dumps(list(r.yara_rules)),\n",
    "        \"cves\": \",\".join(r.cves),\n",
    "        \"sha256s\": \",\".join(r.sha256s),\n",
    "        \"md5s\": \",\".join(r.md5s),\n",
    "        \"sha1s\": \",\".join(r.sha1s),\n",
    "        \"mitre\": json.dumps(r.mitre),\n",
    "        \"report_type\": r.report_type.name,\n",
    "        \"web_url\": r.url,\n",
    "        \"report_data_url\": report_data_url,\n",
    "    }\n",
    "\n",
    "    with conn:\n",
    "        conn.execute(\"\"\"\n",
    "            INSERT INTO report VALUES(\n",
    "                :id,\n",
    "                :publish_time,\n",
    "                :title,\n",
    "                :summary,\n",
    "                :upload_time,\n",
    "                :source,\n",
    "                :ipv4s,\n",
    "                :ipv6s,\n",
    "                :urls,\n",
    "                :yara_rules,\n",
    "                :cves,\n",
    "                :sha256s,\n",
    "                :md5s,\n",
    "                :sha1s,\n",
    "                :mitre,\n",
    "                :report_type,\n",
    "                :web_url,\n",
    "                :report_data_url\n",
    "            )\n",
    "        \"\"\", data)"
   ]
  },
  {
   "cell_type": "code",
   "execution_count": 35,
   "id": "1d228f0c-2a77-463b-8b92-7b3c0e5caf16",
   "metadata": {},
   "outputs": [],
   "source": [
    "feeds = []\n",
    "\n",
    "with open(\"feeds.txt\") as f:\n",
    "    for line in f.readlines():\n",
    "        data = feedparser.parse(line)\n",
    "        if data.bozo:\n",
    "            raise Exception(f\"BOZO {line}\")\n",
    "            \n",
    "        feeds.append(data)"
   ]
  },
  {
   "cell_type": "code",
   "execution_count": 126,
   "id": "cd8e91d0-aba0-4110-b9c3-0602595c70ab",
   "metadata": {},
   "outputs": [],
   "source": [
    "# Connect to sqlite database\n",
    "conn = sqlite3.connect(\"reports.db\")\n",
    "cur = conn.cursor()\n",
    "\n",
    "# Initialize database\n",
    "with open(\"schema.sql\") as f:\n",
    "    try:\n",
    "        cur.executescript(f.read())\n",
    "    except Exception as e:\n",
    "        print(f\"error applying schema: {e}\")"
   ]
  },
  {
   "cell_type": "code",
   "execution_count": 140,
   "id": "9f9d3c30-045a-4f2e-9286-d4d3515dddb0",
   "metadata": {},
   "outputs": [
    {
     "name": "stdout",
     "output_type": "stream",
     "text": [
      "Reading posts from WeLiveSecurity\n",
      "https://www.welivesecurity.com/en/videos/fake-job-offers-target-coders-infostealers/ already present, skipping: UNIQUE constraint failed: report.web_url\n",
      "https://www.welivesecurity.com/en/scams/no-youre-not-fired-beware-job-termination-scams/ already present, skipping: UNIQUE constraint failed: report.web_url\n",
      "https://www.welivesecurity.com/en/we-live-science/katharine-hayhoe-most-important-climate-equation-starmus-highlights/ already present, skipping: UNIQUE constraint failed: report.web_url\n",
      "https://www.welivesecurity.com/en/eset-research/deceptivedevelopment-targets-freelance-developers/ already present, skipping: UNIQUE constraint failed: report.web_url\n",
      "https://www.welivesecurity.com/en/kids-online/gaming-gambling-lifting-lid-in-game-loot-boxes/ already present, skipping: UNIQUE constraint failed: report.web_url\n",
      "https://www.welivesecurity.com/en/videos/what-is-penetration-testing-unlocked-403-cybersecurity-podcast-ep-10/ already present, skipping: UNIQUE constraint failed: report.web_url\n",
      "https://www.welivesecurity.com/en/we-live-science/neil-lawrence-what-makes-us-unique-age-ai-starmus-highlights/ already present, skipping: UNIQUE constraint failed: report.web_url\n",
      "https://www.welivesecurity.com/en/cybersecurity/ai-driven-identify-fraud-havoc/ already present, skipping: UNIQUE constraint failed: report.web_url\n",
      "https://www.welivesecurity.com/en/cybersecurity/patch-perish-organizations-vulnerability-management/ already present, skipping: UNIQUE constraint failed: report.web_url\n",
      "https://www.welivesecurity.com/en/cybersecurity/scammers-exploiting-deepseek-hype/ already present, skipping: UNIQUE constraint failed: report.web_url\n",
      "Persisted posts from WeLiveSecurity\n"
     ]
    }
   ],
   "source": [
    "for feed in feeds[:1]:\n",
    "    source = feed.feed.title\n",
    "    print(f\"Reading posts from {source}\")\n",
    "\n",
    "    for entry in feed.entries[:10]:\n",
    "        publish_time = time.mktime(entry.published_parsed)\n",
    "        r = Report.from_url(url=entry.link, source=source, publish_time=publish_time)\n",
    "        if 'title' in entry:\n",
    "            r.title = entry.title\n",
    "        if 'summary' in entry:\n",
    "            r.summary = entry.summary\n",
    "\n",
    "        r.parse_iocs()\n",
    "        \n",
    "        try:\n",
    "            persist_report(r, conn)\n",
    "        except sqlite3.IntegrityError as e:\n",
    "            print(f\"{entry.link} already present, skipping: {e}\")\n",
    "        \n",
    "    print(f\"Persisted posts from {source}\")"
   ]
  }
 ],
 "metadata": {
  "kernelspec": {
   "display_name": "Python 3 (ipykernel)",
   "language": "python",
   "name": "python3"
  },
  "language_info": {
   "codemirror_mode": {
    "name": "ipython",
    "version": 3
   },
   "file_extension": ".py",
   "mimetype": "text/x-python",
   "name": "python",
   "nbconvert_exporter": "python",
   "pygments_lexer": "ipython3",
   "version": "3.12.3"
  }
 },
 "nbformat": 4,
 "nbformat_minor": 5
}
