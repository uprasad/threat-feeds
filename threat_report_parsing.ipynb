{
 "cells": [
  {
   "cell_type": "code",
   "execution_count": 1,
   "id": "7e69a932-fe06-468f-be55-3b9a2b0b268f",
   "metadata": {},
   "outputs": [
    {
     "name": "stdout",
     "output_type": "stream",
     "text": [
      "File ‘enterprise-attack.json’ already there; not retrieving.\n",
      "\n"
     ]
    }
   ],
   "source": [
    "!wget -nc https://raw.githubusercontent.com/mitre/cti/master/enterprise-attack/enterprise-attack.json"
   ]
  },
  {
   "cell_type": "code",
   "execution_count": 135,
   "id": "89b2d1c6-dcda-495f-846b-6f048fda6c82",
   "metadata": {},
   "outputs": [],
   "source": [
    "from bs4 import BeautifulSoup\n",
    "from collections import defaultdict\n",
    "from enum import Enum\n",
    "from fake_useragent import UserAgent\n",
    "import iocextract as ie\n",
    "from mitreattack.stix20 import MitreAttackData\n",
    "import nltk\n",
    "import ollama\n",
    "import pandas as pd\n",
    "import pprint\n",
    "from pydantic import BaseModel\n",
    "import random\n",
    "import re\n",
    "import requests\n",
    "import sqlite3\n",
    "import time"
   ]
  },
  {
   "cell_type": "code",
   "execution_count": 143,
   "id": "5cdbd990-8591-4acd-b7aa-848e86d6d2cd",
   "metadata": {},
   "outputs": [
    {
     "name": "stderr",
     "output_type": "stream",
     "text": [
      "[nltk_data] Downloading package punkt to /home/udp/nltk_data...\n",
      "[nltk_data]   Package punkt is already up-to-date!\n",
      "[nltk_data] Downloading package words to /home/udp/nltk_data...\n",
      "[nltk_data]   Unzipping corpora/words.zip.\n"
     ]
    },
    {
     "data": {
      "text/plain": [
       "True"
      ]
     },
     "execution_count": 143,
     "metadata": {},
     "output_type": "execute_result"
    }
   ],
   "source": [
    "nltk.download('punkt')\n",
    "nltk.download('words')"
   ]
  },
  {
   "cell_type": "code",
   "execution_count": 4,
   "id": "f17b6398-f7cd-40a8-b5f6-8f17ff646b53",
   "metadata": {},
   "outputs": [],
   "source": [
    "URL1 = \"https://www.welivesecurity.com/en/eset-research/deceptivedevelopment-targets-freelance-developers/\"\n",
    "URL2 = \"https://research.checkpoint.com/2025/large-scale-exploitation-of-legacy-driver/\"\n",
    "URL3 = \"https://www.sentinelone.com/blog/macos-adload-prolific-adware-pivots-just-days-after-apples-xprotect-clampdown/\""
   ]
  },
  {
   "cell_type": "code",
   "execution_count": 5,
   "id": "5f86aa1c-8836-486b-8b11-35ef59b340e7",
   "metadata": {},
   "outputs": [],
   "source": [
    "# Create sqlite database\n",
    "conn = sqlite3.connect(\"reports.db\")\n",
    "cur = conn.cursor()"
   ]
  },
  {
   "cell_type": "code",
   "execution_count": 6,
   "id": "79003fe1-ec75-4a2c-92a4-e040b68cb767",
   "metadata": {},
   "outputs": [],
   "source": [
    "with open(\"schema.sql\") as f:\n",
    "    try:\n",
    "        cur.executescript(f.read())\n",
    "    except Exception as e:\n",
    "        print(f\"error applying schema: {e}\")"
   ]
  },
  {
   "cell_type": "code",
   "execution_count": 7,
   "id": "3d4ad9fc-2c11-4a60-a4d9-290fa949e134",
   "metadata": {},
   "outputs": [],
   "source": [
    "class ReportType(Enum):\n",
    "    HTML = 1\n",
    "    PDF = 2\n",
    "    TEXT = 3"
   ]
  },
  {
   "cell_type": "code",
   "execution_count": 8,
   "id": "28f43f78-10f9-4a47-a346-ce89fcc780be",
   "metadata": {},
   "outputs": [],
   "source": [
    "class ReportSource(Enum):\n",
    "    UNKNOWN = 0"
   ]
  },
  {
   "cell_type": "code",
   "execution_count": 9,
   "id": "914c6801-30ce-451a-9401-9343442bd77a",
   "metadata": {},
   "outputs": [],
   "source": [
    "class Answer(BaseModel):\n",
    "    answer: bool"
   ]
  },
  {
   "cell_type": "code",
   "execution_count": 10,
   "id": "c2ade617-83df-4518-9852-1673062aeb21",
   "metadata": {},
   "outputs": [],
   "source": [
    "def ioc_validation_prompt(ioc, ioc_type, context):\n",
    "    return f\"\"\"\n",
    "    Based on the following text, answer \"true\" or \"false\". Is {ioc} an {ioc_type}?\n",
    "\n",
    "    -----------\n",
    "    {context}\n",
    "    \"\"\"\n",
    "\n",
    "def ioc_relevance_prompt(ioc, ioc_type, context):\n",
    "    return f\"\"\"\n",
    "    Based on the following text, answer \"true\" or \"false\". Is the {ioc_type} {ioc} an indicator of compromise?\n",
    "\n",
    "    -----------\n",
    "    {context}\n",
    "    \"\"\""
   ]
  },
  {
   "cell_type": "code",
   "execution_count": 166,
   "id": "68b68f92-f4d3-4922-bd70-6a779f3bf5f6",
   "metadata": {},
   "outputs": [],
   "source": [
    "class Report:\n",
    "    cve_re = re.compile(r\"\\bCVE-\\d{4}-\\d{4,}\\b\", re.IGNORECASE)\n",
    "\n",
    "    ipv4s = set()\n",
    "    ipv6s = set()\n",
    "    sha256s = set()\n",
    "    md5s = set()\n",
    "    sha1s = set()\n",
    "    domains = set()\n",
    "    yara_rules = set()\n",
    "    cves = set()\n",
    "    mitre = defaultdict(set)\n",
    "\n",
    "    def parse_mitre(self):\n",
    "        def get_external_ids(elems):\n",
    "            return [r.external_id for e in elems for r in e.external_references if r.source_name == 'mitre-attack']\n",
    "        \n",
    "        def get_names(elems):\n",
    "            return [e.name for e in elems]\n",
    "\n",
    "        # Load mitre attack data\n",
    "        mitre_attack_data = MitreAttackData(\"enterprise-attack.json\")\n",
    "\n",
    "        tactics = mitre_attack_data.get_tactics()\n",
    "        techniques = mitre_attack_data.get_techniques()\n",
    "        groups = mitre_attack_data.get_groups()\n",
    "        software = mitre_attack_data.get_software()\n",
    "        campaigns = mitre_attack_data.get_campaigns()\n",
    "        datasources = mitre_attack_data.get_datasources()\n",
    "\n",
    "        tactics_ids = set(get_external_ids(tactics))\n",
    "        techniques_ids = set(get_external_ids(techniques))\n",
    "        groups_names = set(get_names(groups))\n",
    "        groups_ids = set(get_external_ids(groups))\n",
    "        software_names = set(get_names(software))\n",
    "        software_ids = set(get_external_ids(software))\n",
    "        campaign_names = set(get_names(campaigns))\n",
    "        campaign_ids = set(get_external_ids(campaigns))\n",
    "        datasources_ids = set(get_external_ids(datasources))\n",
    "\n",
    "        mitre_data = {\n",
    "            \"tactics\": tactics_ids,\n",
    "            \"techniques\": techniques_ids,\n",
    "            \"mitigations\": mitigations_ids,\n",
    "            \"group_names\": groups_names,\n",
    "            \"group_ids\": groups_ids,\n",
    "            \"software_ids\": software_ids,\n",
    "            \"campaign_names\": campaign_names,\n",
    "            \"campaign_ids\": campaign_ids,\n",
    "            \"datasources\": datasources_ids,\n",
    "        }\n",
    "\n",
    "        # Tokenize contents\n",
    "        words = set(nltk.corpus.words.words())\n",
    "        tokens = set(nltk.tokenize.word_tokenize(self.body)).difference(words)\n",
    "        for key, values in mitre_data.items():\n",
    "            self.mitre[key] = tokens.intersection(values)\n",
    "        \n",
    "    def __init__(self, contents, title, body, report_type, source, url=None):\n",
    "        self.contents = contents # original contents\n",
    "        self.title = title\n",
    "        self.body = body\n",
    "        self.url = url\n",
    "        self.report_type = report_type\n",
    "        self.source = source\n",
    "\n",
    "        # Derived\n",
    "        self.upload_date = time.time()\n",
    "        self.creation_date = time.time()\n",
    "\n",
    "    @classmethod\n",
    "    def from_url(cls, url, source):\n",
    "        headers = {\n",
    "            \"User-Agent\": UserAgent().random,\n",
    "        }\n",
    "        resp = requests.get(url, headers=headers)\n",
    "        resp.raise_for_status()\n",
    "\n",
    "        soup = BeautifulSoup(resp.text, 'html.parser')\n",
    "        body = soup.find('body')\n",
    "        title = soup.find('title')\n",
    "\n",
    "        return Report(resp.text, title.text, body.text, ReportType.HTML, source, url=url)\n",
    "\n",
    "    def parse_iocs(self):\n",
    "        self.domains = set(ie.extract_urls(self.body))\n",
    "        self.ipv4s = set(ie.extract_ipv4s(self.body))\n",
    "        self.ipv6s = set(ie.extract_ipv6s(self.body))\n",
    "        self.cves = self.cve_re.findall(self.body)\n",
    "        self.sha1s = set(ie.extract_sha1_hashes(self.body))\n",
    "        self.md5s = set(ie.extract_md5_hashes(self.body))\n",
    "        self.sha256s = set(ie.extract_sha256_hashes(self.body))"
   ]
  },
  {
   "cell_type": "code",
   "execution_count": 170,
   "id": "cb0d3a39-7d5e-4223-a5af-44825acfaae8",
   "metadata": {},
   "outputs": [],
   "source": [
    "r1 = Report.from_url(URL1, source=ReportSource.UNKNOWN)\n",
    "r1.parse_iocs()"
   ]
  },
  {
   "cell_type": "code",
   "execution_count": 171,
   "id": "91e0062e-99ad-4955-90fe-de78c3de52dc",
   "metadata": {},
   "outputs": [],
   "source": [
    "r2 = Report.from_url(URL2, source=ReportSource.UNKNOWN)\n",
    "r2.parse_iocs()"
   ]
  },
  {
   "cell_type": "code",
   "execution_count": 172,
   "id": "0f57deed-cc12-4a58-a5d9-38c941759ee5",
   "metadata": {},
   "outputs": [],
   "source": [
    "r3 = Report.from_url(URL3, source=ReportSource.UNKNOWN)\n",
    "r3.parse_iocs()"
   ]
  },
  {
   "cell_type": "code",
   "execution_count": 168,
   "id": "672c929c-365d-4be8-b4dd-6ae524766bfb",
   "metadata": {},
   "outputs": [],
   "source": [
    "r1.parse_mitre()"
   ]
  },
  {
   "cell_type": "code",
   "execution_count": 173,
   "id": "0c34ebc5-40be-45f4-b807-e1f07caae7cb",
   "metadata": {},
   "outputs": [
    {
     "data": {
      "text/plain": [
       "{'135.125.248[.]56',\n",
       " '147.124.214[.]129',\n",
       " '147.124.214[.]237',\n",
       " '185.235.241[.]208',\n",
       " '23.106.253[.]194',\n",
       " '45.61.131[.]218',\n",
       " '67.203.7[.]171',\n",
       " '95.164.17[.]24',\n",
       " 'http://<C&C_IP>:<C&C_port>/anydesk.exe',\n",
       " 'http://ip-api.com/json',\n",
       " 'ipcheck[.]cloud',\n",
       " 'mirotalk[.]net'}"
      ]
     },
     "execution_count": 173,
     "metadata": {},
     "output_type": "execute_result"
    }
   ],
   "source": [
    "r1.domains"
   ]
  },
  {
   "cell_type": "code",
   "execution_count": 174,
   "id": "c5df0975-146d-4dc2-9e5e-29b1003023f2",
   "metadata": {},
   "outputs": [
    {
     "data": {
      "text/plain": [
       "'they need to be decrypted before exfiltration. The encryption keys used for this are obtained based on the operating system in use. On Windows, they are extracted from the browser’s Local\\xa0State file, on Linux they are obtained through the secretstorage package, and on macOS they are obtained through the security utility, as illustrated in Figure 15.\\n\\nFigure 15. Extracting the encryption keys for browser databases on Windows, Linux, and macOS\\n\\nThe collected information (see Figure 16) is then sent to the C&C server via an HTTP POST request to the /keys API endpoint.\\n\\nFigure 16. Information submitted by the browser module to the C&C server\\n\\nAnyDesk module\\nThe adc module is the only persistence mechanism found in this compromise chain, setting up AnyDesk access to the victim’s computer using a configuration file containing hardcoded login credentials.\\nOn Windows, it checks whether the C:/Program Files (x86)/AnyDesk/AnyDesk.exe exists. If\\xa0not, it downloads anydesk.exe from the C&C server (http://<C&C_IP>:<C&C_port>/anydesk.exe) into the user’s home directory.\\nThen it attempts to set up AnyDesk for access by the attacker by entering hardcoded password hash, password salt, and token salt values into the configuration files. If the configuration files don’t exist or don’t contain a given attacker-specified password salt value, the module attempts to modify them to add the hardcoded login information. If that fails, it creates a PowerShell script in the user’s home directory named conf.ps1, containing code to modify the configuration files (shown in Figure 17) and attempts to launch it.\\n\\nFigure 17. PowerShell script to modify AnyDesk configuration, adding hardcoded password hash and salt, and token salt\\n\\nAfter these actions complete, the AnyDesk process is killed and then started again to load the new configuration. Lastly, the adc module attempts to delete itself by calling the os.remove function on itself.\\nInvisibleFerret update\\nWe later discovered an updated version of InvisibleFerret with major changes, use'"
      ]
     },
     "execution_count": 174,
     "metadata": {},
     "output_type": "execute_result"
    }
   ],
   "source": [
    "ioc = 'http://<C&C_IP>:<C&C_port>/anydesk.exe'\n",
    "idx = r1.body.index(ioc)\n",
    "context = r1.body[idx-1000:idx+len(ioc)+1000]\n",
    "context"
   ]
  },
  {
   "cell_type": "code",
   "execution_count": 175,
   "id": "a48ec28c-52cb-425d-a54e-bb2a02a13366",
   "metadata": {},
   "outputs": [
    {
     "name": "stdout",
     "output_type": "stream",
     "text": [
      "CPU times: user 20.8 ms, sys: 4.12 ms, total: 25 ms\n",
      "Wall time: 28.2 s\n"
     ]
    },
    {
     "data": {
      "text/plain": [
       "Answer(answer=True)"
      ]
     },
     "execution_count": 175,
     "metadata": {},
     "output_type": "execute_result"
    }
   ],
   "source": [
    "%%time\n",
    "resp = ollama.chat(\n",
    "    model='qwen2.5:14b',\n",
    "    messages=[\n",
    "        {\n",
    "            'role': 'user',\n",
    "            'content': ioc_validation_prompt(ioc, \"URL\", context),\n",
    "        },\n",
    "    ],\n",
    "    format=Answer.model_json_schema(),\n",
    ")\n",
    "answer = Answer.model_validate_json(resp.message.content)\n",
    "answer"
   ]
  },
  {
   "cell_type": "code",
   "execution_count": 176,
   "id": "57a0b162-c547-474a-9cca-44f70c658972",
   "metadata": {},
   "outputs": [
    {
     "name": "stdout",
     "output_type": "stream",
     "text": [
      "CPU times: user 6 ms, sys: 5.78 ms, total: 11.8 ms\n",
      "Wall time: 19.7 s\n"
     ]
    },
    {
     "data": {
      "text/plain": [
       "Answer(answer=True)"
      ]
     },
     "execution_count": 176,
     "metadata": {},
     "output_type": "execute_result"
    }
   ],
   "source": [
    "%%time\n",
    "resp = ollama.chat(\n",
    "    model='qwen2.5:14b',\n",
    "    messages=[\n",
    "        {\n",
    "            'role': 'user',\n",
    "            'content': ioc_relevance_prompt(ioc, \"URL\", context),\n",
    "        },\n",
    "    ],\n",
    "    format=Answer.model_json_schema(),\n",
    ")\n",
    "answer = Answer.model_validate_json(resp.message.content)\n",
    "answer"
   ]
  },
  {
   "cell_type": "code",
   "execution_count": null,
   "id": "1d228f0c-2a77-463b-8b92-7b3c0e5caf16",
   "metadata": {},
   "outputs": [],
   "source": []
  }
 ],
 "metadata": {
  "kernelspec": {
   "display_name": "Python 3 (ipykernel)",
   "language": "python",
   "name": "python3"
  },
  "language_info": {
   "codemirror_mode": {
    "name": "ipython",
    "version": 3
   },
   "file_extension": ".py",
   "mimetype": "text/x-python",
   "name": "python",
   "nbconvert_exporter": "python",
   "pygments_lexer": "ipython3",
   "version": "3.12.3"
  }
 },
 "nbformat": 4,
 "nbformat_minor": 5
}
